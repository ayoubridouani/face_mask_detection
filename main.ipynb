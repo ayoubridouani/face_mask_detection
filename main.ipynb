{
 "cells": [
  {
   "cell_type": "code",
   "execution_count": 1,
   "metadata": {},
   "outputs": [],
   "source": [
    "from tensorflow.keras.models import load_model\n",
    "import numpy as np\n",
    "import cv2\n",
    "import dlib"
   ]
  },
  {
   "cell_type": "code",
   "execution_count": 2,
   "metadata": {},
   "outputs": [],
   "source": [
    "# create a videoCapture object with a video file or a capture device\n",
    "cap = cv2.VideoCapture(\"test.mp4\")\n",
    "\n",
    "# initialize dlib's face detector (HOG-based)\n",
    "detector = dlib.get_frontal_face_detector()\n",
    "\n",
    "# load model\n",
    "model = load_model(\"model.h5\")\n",
    "\n",
    "# check if we will successfully open the file\n",
    "if not cap.isOpened():\n",
    "    print(\"Error opening the file.\")\n",
    "    assert(False)\n",
    "\n",
    "# read until the end of the video frame by frame\n",
    "while cap.isOpened():\n",
    "    ret, frame = cap.read()\n",
    "\n",
    "    if ret:\n",
    "        frame = cv2.resize(frame, (500,400))\n",
    "        gray = cv2.cvtColor(frame,cv2.COLOR_RGB2GRAY)\n",
    "        rects = detector(gray, 0)\n",
    "\n",
    "        if(len(rects) != 0):\n",
    "            rect = rects[0]\n",
    "            top, right, bottom, left = abs(rect.top()),abs(rect.right()),abs(rect.bottom()),abs(rect.left())\n",
    "            face = frame[top:bottom,left:right]\n",
    "\n",
    "            face = cv2.resize(face,(300,300))\n",
    "            cv2.rectangle(frame, (left, top), (right, bottom), (255, 255, 0), 2)\n",
    "            \n",
    "            face = np.expand_dims(face,axis=0)\n",
    "            y = model.predict(face)\n",
    "        \n",
    "            if(y[0][0] < 0.5):\n",
    "                s = \"without mask\"\n",
    "            else:\n",
    "                s = \"with mask\"\n",
    "            \n",
    "            cv2.putText(frame, \n",
    "                        s + \", \" + str(int((y[0][0])*100)) + \"%\", \n",
    "                        (left-5,top-5), \n",
    "                        cv2.FONT_HERSHEY_SIMPLEX,\n",
    "                        1, (0,0,0), 2)\n",
    "        \n",
    "        cv2.imshow(\"Output\", frame)\n",
    "\n",
    "        if cv2.waitKey(1) == ord('e'):\n",
    "            break\n",
    "    else:\n",
    "        break\n",
    "\n",
    "# to release software and hardware resources\n",
    "cap.release()\n",
    "\n",
    "# to close all windows in imshow ()\n",
    "cv2.destroyAllWindows()"
   ]
  },
  {
   "cell_type": "code",
   "execution_count": null,
   "metadata": {},
   "outputs": [],
   "source": []
  }
 ],
 "metadata": {
  "kernelspec": {
   "display_name": "Python 3",
   "language": "python",
   "name": "python3"
  },
  "language_info": {
   "codemirror_mode": {
    "name": "ipython",
    "version": 3
   },
   "file_extension": ".py",
   "mimetype": "text/x-python",
   "name": "python",
   "nbconvert_exporter": "python",
   "pygments_lexer": "ipython3",
   "version": "3.7.7"
  }
 },
 "nbformat": 4,
 "nbformat_minor": 4
}
